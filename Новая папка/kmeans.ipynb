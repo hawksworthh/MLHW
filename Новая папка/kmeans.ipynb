{
 "cells": [
  {
   "cell_type": "code",
   "execution_count": 1,
   "metadata": {},
   "outputs": [],
   "source": [
    "import numpy as np"
   ]
  },
  {
   "cell_type": "code",
   "execution_count": 1,
   "metadata": {},
   "outputs": [],
   "source": [
    "def meansk(X, k, max_ = 100):\n",
    "    centroids = X[np.random.choice(range(len(X)), k, replace = False)]\n",
    "    clusters = []\n",
    "    centroid_list = []\n",
    "    for _ in range(max_):\n",
    "        # euclidic distance\n",
    "        cluster_ass = np.argmin(np.linalg.norm(X[:, None] - centroids, axis = 2), axis = 1)\n",
    "        \n",
    "        new_centroids = np.array([X[cluster_ass == i].mean(axis = 0) for i in range(k)])\n",
    "        \n",
    "        if np.linalg.norm(new_centroids - centroids) < 10**(-5):\n",
    "            break\n",
    "        \n",
    "        centroid_list.append(centroids)\n",
    "        centroids = new_centroids\n",
    "        clusters.append(cluster_ass)\n",
    "    \n",
    "    \n",
    "    return centroids, cluster_ass, centroid_list, clusters"
   ]
  },
  {
   "cell_type": "code",
   "execution_count": null,
   "metadata": {},
   "outputs": [],
   "source": []
  }
 ],
 "metadata": {
  "kernelspec": {
   "display_name": "Python 3",
   "language": "python",
   "name": "python3"
  },
  "language_info": {
   "codemirror_mode": {
    "name": "ipython",
    "version": 3
   },
   "file_extension": ".py",
   "mimetype": "text/x-python",
   "name": "python",
   "nbconvert_exporter": "python",
   "pygments_lexer": "ipython3",
   "version": "3.11.7"
  }
 },
 "nbformat": 4,
 "nbformat_minor": 2
}
